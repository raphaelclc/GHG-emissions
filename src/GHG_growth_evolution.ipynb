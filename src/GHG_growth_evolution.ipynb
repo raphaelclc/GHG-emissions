{
 "cells": [
  {
   "cell_type": "code",
   "execution_count": null,
   "metadata": {},
   "outputs": [],
   "source": [
    "import polars as pl\n",
    "import duckdb\n",
    "import plotly.graph_objs as go\n",
    "import plotly.express as px\n",
    "import missingno as msno"
   ]
  },
  {
   "cell_type": "code",
   "execution_count": null,
   "metadata": {},
   "outputs": [],
   "source": [
    "EUROZONE = [\n",
    "    \"Austria\",\n",
    "    \"Belgium\",\n",
    "    \"Cyprus\",\n",
    "    \"Estonia\",\n",
    "    \"Finland\",\n",
    "    \"France and Monaco\",\n",
    "    \"Germany\",\n",
    "    \"Greece\",\n",
    "    \"Ireland\",\n",
    "    \"Italy, San Marino and the Holy See\",\n",
    "    \"Latvia\",\n",
    "    \"Lithuania\",\n",
    "    \"Luxembourg\",\n",
    "    \"Malta\",\n",
    "    \"Netherlands\",\n",
    "    \"Portugal\",\n",
    "    \"Slovakia\",\n",
    "    \"Slovenia\",\n",
    "    \"Spain and Andorra\",\n",
    "]"
   ]
  },
  {
   "cell_type": "markdown",
   "metadata": {},
   "source": [
    "# Reading Datasets and Initial Exploration"
   ]
  },
  {
   "cell_type": "code",
   "execution_count": null,
   "metadata": {},
   "outputs": [],
   "source": [
    "df = pl.read_csv(\"../data/GHG_total_by_country.csv\")\n",
    "df.head()"
   ]
  },
  {
   "cell_type": "code",
   "execution_count": null,
   "metadata": {},
   "outputs": [],
   "source": [
    "# Summary of statistics\n",
    "df.describe()"
   ]
  },
  {
   "cell_type": "code",
   "execution_count": null,
   "metadata": {},
   "outputs": [],
   "source": [
    "# Check for missing values\n",
    "with pl.Config() as cfg:\n",
    "    cfg.set_tbl_cols(-1)\n",
    "    print(df.null_count())\n",
    "\n",
    "msno.matrix(df.to_pandas(), sparkline=False)\n",
    "\n",
    "check_nulls = pl.any_horizontal(pl.col(col).is_null() for col in df.columns)\n",
    "rows_with_nulls = df.filter(check_nulls)\n",
    "with pl.Config() as cfg:\n",
    "    cfg.set_tbl_cols(-1)\n",
    "    print(rows_with_nulls)"
   ]
  },
  {
   "cell_type": "markdown",
   "metadata": {},
   "source": [
    "# Data Cleaning and Preprocessing"
   ]
  },
  {
   "cell_type": "code",
   "execution_count": null,
   "metadata": {},
   "outputs": [],
   "source": []
  }
 ],
 "metadata": {
  "kernelspec": {
   "display_name": "venv",
   "language": "python",
   "name": "python3"
  },
  "language_info": {
   "codemirror_mode": {
    "name": "ipython",
    "version": 3
   },
   "file_extension": ".py",
   "mimetype": "text/x-python",
   "name": "python",
   "nbconvert_exporter": "python",
   "pygments_lexer": "ipython3",
   "version": "3.12.3"
  }
 },
 "nbformat": 4,
 "nbformat_minor": 2
}
