{
 "cells": [
  {
   "cell_type": "code",
   "execution_count": null,
   "metadata": {},
   "outputs": [],
   "source": [
    "import polars as pl\n",
    "import duckdb\n",
    "import plotly.graph_objs as go\n",
    "import plotly.express as px\n",
    "import missingno as msno"
   ]
  },
  {
   "cell_type": "code",
   "execution_count": null,
   "metadata": {},
   "outputs": [],
   "source": [
    "EUROAREA = [\n",
    "    \"Austria\",\n",
    "    \"Belgium\",\n",
    "    \"Cyprus\",\n",
    "    \"Estonia\",\n",
    "    \"Finland\",\n",
    "    \"France and Monaco\",\n",
    "    \"Germany\",\n",
    "    \"Greece\",\n",
    "    \"Ireland\",\n",
    "    \"Italy, San Marino and the Holy See\",\n",
    "    \"Latvia\",\n",
    "    \"Lithuania\",\n",
    "    \"Luxembourg\",\n",
    "    \"Malta\",\n",
    "    \"Netherlands\",\n",
    "    \"Portugal\",\n",
    "    \"Slovakia\",\n",
    "    \"Slovenia\",\n",
    "    \"Spain and Andorra\",\n",
    "]"
   ]
  },
  {
   "cell_type": "markdown",
   "metadata": {},
   "source": [
    "# Reading Dataset and Initial Exploration"
   ]
  },
  {
   "cell_type": "code",
   "execution_count": null,
   "metadata": {},
   "outputs": [],
   "source": [
    "df = pl.read_csv(\"../data/GHG_total_by_country.csv\")\n",
    "df.head()"
   ]
  },
  {
   "cell_type": "code",
   "execution_count": null,
   "metadata": {},
   "outputs": [],
   "source": [
    "# Summary of statistics\n",
    "df.describe()"
   ]
  },
  {
   "cell_type": "code",
   "execution_count": null,
   "metadata": {},
   "outputs": [],
   "source": [
    "# Check for missing values\n",
    "with pl.Config() as cfg:\n",
    "    cfg.set_tbl_cols(-1)\n",
    "    print(df.null_count())\n",
    "\n",
    "msno.matrix(df.to_pandas(), sparkline=False)\n",
    "\n",
    "check_nulls = pl.any_horizontal(pl.col(col).is_null() for col in df.columns)\n",
    "rows_with_nulls = df.filter(check_nulls)\n",
    "with pl.Config() as cfg:\n",
    "    cfg.set_tbl_cols(-1)\n",
    "    print(rows_with_nulls)"
   ]
  },
  {
   "cell_type": "markdown",
   "metadata": {},
   "source": [
    "# Data Cleaning and Preprocessing"
   ]
  },
  {
   "cell_type": "code",
   "execution_count": null,
   "metadata": {},
   "outputs": [],
   "source": [
    "# DuckDB connection\n",
    "con = duckdb.connect()\n",
    "con.register(\"df_table\", df)\n",
    "\n",
    "# ETL data for Euro area\n",
    "euroarea_countries = \", \".join(f\"'{country}'\" for country in EUROAREA)\n",
    "df_euroarea = con.execute(\n",
    "    f\"\"\"\n",
    "    SELECT * FROM df_table WHERE Country IN ({euroarea_countries})\n",
    "\"\"\"\n",
    ").pl()\n",
    "df_euroarea = df_euroarea.mean()\n",
    "df_euroarea = df_euroarea.with_columns(\n",
    "    pl.col(\"EDGAR Country Code\").fill_null(\"EUROAREA\"),\n",
    "    pl.col(\"Country\").fill_null(\"EUROAREA\"),\n",
    ")\n",
    "df_euroarea = df_euroarea.with_columns(\n",
    "    [\n",
    "        pl.col(col).round(5)\n",
    "        for col in df_euroarea.columns\n",
    "        if df_euroarea[col].dtype in (pl.Float64, pl.Float32)\n",
    "    ]\n",
    ")\n",
    "\n",
    "# ETL data for European Union (EU27)\n",
    "df_eu27 = con.execute(\n",
    "    \"\"\"\n",
    "    SELECT * FROM df_table WHERE \"EDGAR Country Code\" = 'EU27' AND \"Country\" = 'EU27'\n",
    "\"\"\"\n",
    ").pl()\n",
    "\n",
    "con.close()\n",
    "\n",
    "# ETL data for worldwide\n",
    "df_worldwide = df.filter(\n",
    "    (pl.col(\"EDGAR Country Code\") == \"GLOBAL TOTAL\")\n",
    "    & (pl.col(\"Country\") == \"GLOBAL TOTAL\")\n",
    ")\n",
    "df_worldwide = df_worldwide.with_columns(\n",
    "    pl.col(\"EDGAR Country Code\").replace(\"GLOBAL TOTAL\", \"WORLDWIDE\"),\n",
    "    pl.col(\"Country\").replace(\"GLOBAL TOTAL\", \"WORLDWIDE\"),\n",
    ")"
   ]
  },
  {
   "cell_type": "markdown",
   "metadata": {},
   "source": [
    "# Visualisation"
   ]
  },
  {
   "cell_type": "code",
   "execution_count": null,
   "metadata": {},
   "outputs": [],
   "source": [
    "with pl.Config() as cfg:\n",
    "    cfg.set_tbl_cols(-1)\n",
    "    cfg.set_tbl_rows(-1)\n",
    "    print(df_euroarea.to_pandas().to_csv())\n",
    "    print()\n",
    "    print(df_eu27.to_pandas().to_csv())\n",
    "    print()\n",
    "    print(df_worldwide.to_pandas().to_csv())"
   ]
  },
  {
   "cell_type": "code",
   "execution_count": null,
   "metadata": {},
   "outputs": [],
   "source": [
    "years = df_euroarea.columns[2:]\n",
    "values1 = df_euroarea.row(0)[2:]\n",
    "values2 = df_eu27.row(0)[2:]\n",
    "values3 = df_worldwide.row(0)[2:]\n",
    "\n",
    "# Create traces\n",
    "trace1 = go.Scatter(x=years, y=values1, mode=\"lines\", name=\"EUROAREA\")\n",
    "trace2 = go.Scatter(x=years, y=values2, mode=\"lines\", name=\"EU27\")\n",
    "trace3 = go.Scatter(x=years, y=values3, mode=\"lines\", name=\"WORLDWIDE\")\n",
    "\n",
    "# Create the figure\n",
    "fig = go.Figure(data=[trace1, trace2, trace3])\n",
    "\n",
    "# Update layout\n",
    "fig.update_layout(\n",
    "    title=\"GHG Growth Evolution\",\n",
    "    xaxis_title=\"Year\",\n",
    "    yaxis_title=\"CO2eq (Mt)\",\n",
    "    xaxis=dict(tickmode=\"linear\", tick0=1970, dtick=5),\n",
    "    template=\"plotly_white\",\n",
    ")\n",
    "\n",
    "fig.show()"
   ]
  }
 ],
 "metadata": {
  "kernelspec": {
   "display_name": "venv",
   "language": "python",
   "name": "python3"
  },
  "language_info": {
   "codemirror_mode": {
    "name": "ipython",
    "version": 3
   },
   "file_extension": ".py",
   "mimetype": "text/x-python",
   "name": "python",
   "nbconvert_exporter": "python",
   "pygments_lexer": "ipython3",
   "version": "3.12.3"
  }
 },
 "nbformat": 4,
 "nbformat_minor": 2
}
